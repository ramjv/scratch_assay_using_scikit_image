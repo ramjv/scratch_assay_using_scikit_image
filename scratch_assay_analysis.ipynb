{
  "nbformat": 4,
  "nbformat_minor": 0,
  "metadata": {
    "colab": {
      "name": "scratch_assay_analysis.ipynb",
      "provenance": [],
      "authorship_tag": "ABX9TyPqBBmnbYllncBjwefZ1K51",
      "include_colab_link": true
    },
    "kernelspec": {
      "name": "python3",
      "display_name": "Python 3"
    }
  },
  "cells": [
    {
      "cell_type": "markdown",
      "metadata": {
        "id": "view-in-github",
        "colab_type": "text"
      },
      "source": [
        "<a href=\"https://colab.research.google.com/github/ramjv/scratch_assay_using_scikit_image/blob/master/scratch_assay_analysis.ipynb\" target=\"_parent\"><img src=\"https://colab.research.google.com/assets/colab-badge.svg\" alt=\"Open In Colab\"/></a>"
      ]
    },
    {
      "cell_type": "code",
      "metadata": {
        "id": "w7Teb6GVZ7Lv",
        "colab_type": "code",
        "colab": {
          "base_uri": "https://localhost:8080/",
          "height": 466
        },
        "outputId": "6b753759-c354-462f-c9b8-083409a6cc05"
      },
      "source": [
        "import matplotlib.pyplot as plt\n",
        "from skimage import io\n",
        "from skimage.filters.rank import entropy\n",
        "from skimage.morphology import disk\n",
        "import numpy as np\n",
        "from skimage.filters import threshold_otsu\n",
        "\n",
        "import glob\n",
        "\n",
        "time = 0\n",
        "time_list=[]\n",
        "area_list=[]\n",
        "scratch_assay = ['Scratch0.jpg','Scratch1.jpg','Scratch2.jpg','Scratch3.jpg','Scratch4.jpg','Scratch5.jpg','Scratch6.jpg','Scratch7.jpg','Scratch8.jpg','Scratch9.jpg']\n",
        "path = \"/content/scratch_assay/\"\n",
        "for file in scratch_assay:\n",
        "    dict={}\n",
        "    img=io.imread(path+file)\n",
        "    entropy_img = entropy(img, disk(3))\n",
        "    thresh = threshold_otsu(entropy_img)\n",
        "    binary = entropy_img <= thresh\n",
        "    scratch_area = np.sum(binary == 1)\n",
        "    print(\"time=\", time, \"hr  \", \"Scratch area=\", scratch_area, \"pix\\N{SUPERSCRIPT TWO}\")\n",
        "    time_list.append(time)\n",
        "    area_list.append(scratch_area)\n",
        "    time += 1\n",
        "\n",
        "#print(time_list, area_list)\n",
        "plt.plot(time_list, area_list, 'bo')  #Print blue dots scatter plot\n",
        "\n",
        "#Print slope, intercept\n",
        "from scipy.stats import linregress\n",
        "#print(linregress(time_list, area_list))\n",
        "\n",
        "\n",
        "slope, intercept, r_value, p_value, std_err = linregress(time_list, area_list)\n",
        "print(\"y = \",slope, \"x\", \" + \", intercept  )\n",
        "print(\"R\\N{SUPERSCRIPT TWO} = \", r_value**2)\n",
        "#print(\"r-squared: %f\" % r_value**2)"
      ],
      "execution_count": 3,
      "outputs": [
        {
          "output_type": "stream",
          "text": [
            "time= 0 hr   Scratch area= 33426 pix²\n",
            "time= 1 hr   Scratch area= 27683 pix²\n",
            "time= 2 hr   Scratch area= 24106 pix²\n",
            "time= 3 hr   Scratch area= 21123 pix²\n",
            "time= 4 hr   Scratch area= 18481 pix²\n",
            "time= 5 hr   Scratch area= 16105 pix²\n",
            "time= 6 hr   Scratch area= 14417 pix²\n",
            "time= 7 hr   Scratch area= 12717 pix²\n",
            "time= 8 hr   Scratch area= 10957 pix²\n",
            "time= 9 hr   Scratch area= 9337 pix²\n",
            "y =  -2504.9818181818187 x  +  30107.618181818187\n",
            "R² =  0.9568904267126049\n"
          ],
          "name": "stdout"
        },
        {
          "output_type": "display_data",
          "data": {
            "image/png": "[encoded data removed]",
            "text/plain": [
              "<Figure size 432x288 with 1 Axes>"
            ]
          },
          "metadata": {
            "tags": [],
            "needs_background": "light"
          }
        }
      ]
    },
    {
      "cell_type": "code",
      "metadata": {
        "id": "tqqnM9p3aA98",
        "colab_type": "code",
        "colab": {}
      },
      "source": [
        ""
      ],
      "execution_count": 0,
      "outputs": []
    }
  ]
}